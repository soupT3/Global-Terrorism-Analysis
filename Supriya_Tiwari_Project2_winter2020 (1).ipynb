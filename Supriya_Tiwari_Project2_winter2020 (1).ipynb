{
 "cells": [
  {
   "cell_type": "markdown",
   "metadata": {},
   "source": [
    "# Global Terrorism Analysis\n"
   ]
  },
  {
   "cell_type": "markdown",
   "metadata": {},
   "source": [
    "<font size= 4>Name: SUPRIYA TIWARI\n",
    "\n",
    "Email: stiwari3@scu.edu\n",
    "\n",
    "The data can be obtained from the following URL : https://www.kaggle.com/START-UMD/gtd \n",
    "and \n",
    "https://www.kaggle.com/rabbitsusan/world-happiness-report "
   ]
  },
  {
   "cell_type": "markdown",
   "metadata": {},
   "source": [
    "![title](img/terror.png)"
   ]
  },
  {
   "cell_type": "markdown",
   "metadata": {},
   "source": [
    "<font size=\"3\">This jupyter file consists of TWO parts:\n",
    "\n",
    "<font size=\"3\">Part one: Data Preparation and Introduction\n",
    "\n",
    "\n",
    "<font size=\"3\">Part two: Findings and Analysis"
   ]
  },
  {
   "cell_type": "markdown",
   "metadata": {},
   "source": [
    "<font size= 5> Part One: "
   ]
  },
  {
   "cell_type": "code",
   "execution_count": 172,
   "metadata": {},
   "outputs": [],
   "source": [
    "#importing all the necessary libraries\n",
    "import pandas as pd\n",
    "import numpy as np\n",
    "import matplotlib.pyplot as plt\n",
    "%matplotlib inline\n",
    "# from mpl_toolkits.basemap import Basemap\n",
    "import seaborn as sns\n",
    "\n",
    "import matplotlib.animation as animation\n",
    "from IPython.display import HTML\n",
    "import warnings\n",
    "warnings.filterwarnings('ignore')\n",
    "\n",
    "\n",
    "import io\n",
    "import requests\n",
    "import os\n",
    "\n",
    "import matplotlib.pyplot as plt\n",
    "import matplotlib.dates as mdates\n",
    "plt.rc('figure', figsize=(12,10))\n",
    "%matplotlib inline\n",
    "\n",
    "import scipy.stats as st\n",
    "from statsmodels.tsa import stattools as stt\n",
    "from statsmodels import tsa\n",
    "import statsmodels.api as smapi\n",
    "import datetime\n",
    "\n",
    "from statsmodels.tsa.arima_model import ARIMA\n",
    "\n",
    "import warnings\n",
    "warnings.simplefilter(action='ignore')\n",
    "\n",
    "\n",
    "from sklearn.preprocessing import LabelEncoder\n",
    "from sklearn.preprocessing import label_binarize\n",
    "\n",
    "from sklearn.model_selection import train_test_split\n",
    "from sklearn.model_selection import cross_val_score\n",
    "from sklearn.metrics import confusion_matrix\n",
    "import itertools\n",
    "\n",
    "\n",
    "from sklearn import svm\n",
    "from sklearn.ensemble import RandomForestClassifier\n",
    "from sklearn.neighbors import KNeighborsClassifier\n",
    "from sklearn.ensemble import ExtraTreesClassifier\n",
    "from sklearn.dummy import DummyClassifier\n",
    "\n",
    "\n",
    "import sklearn as sk\n",
    "import sklearn.tree as tree\n",
    "from IPython.display import Image  \n",
    "import pydotplus\n",
    "from matplotlib import pyplot as plt\n",
    "import numpy as np\n",
    "from matplotlib_venn import venn2, venn3, venn3_circles\n",
    "import matplotlib.image as mpimg\n",
    "\n",
    "\n",
    "from sklearn.metrics import roc_curve"
   ]
  },
  {
   "cell_type": "code",
   "execution_count": 173,
   "metadata": {},
   "outputs": [],
   "source": [
    "#importing dataset 1\n",
    "terrorism = pd.read_csv('terr.csv', low_memory=False)"
   ]
  },
  {
   "cell_type": "code",
   "execution_count": 174,
   "metadata": {},
   "outputs": [
    {
     "data": {
      "text/html": [
       "<div>\n",
       "<style scoped>\n",
       "    .dataframe tbody tr th:only-of-type {\n",
       "        vertical-align: middle;\n",
       "    }\n",
       "\n",
       "    .dataframe tbody tr th {\n",
       "        vertical-align: top;\n",
       "    }\n",
       "\n",
       "    .dataframe thead th {\n",
       "        text-align: right;\n",
       "    }\n",
       "</style>\n",
       "<table border=\"1\" class=\"dataframe\">\n",
       "  <thead>\n",
       "    <tr style=\"text-align: right;\">\n",
       "      <th></th>\n",
       "      <th>eventid</th>\n",
       "      <th>iyear</th>\n",
       "      <th>imonth</th>\n",
       "      <th>iday</th>\n",
       "      <th>approxdate</th>\n",
       "      <th>extended</th>\n",
       "      <th>resolution</th>\n",
       "      <th>country</th>\n",
       "      <th>country_txt</th>\n",
       "      <th>region</th>\n",
       "      <th>...</th>\n",
       "      <th>addnotes</th>\n",
       "      <th>scite1</th>\n",
       "      <th>scite2</th>\n",
       "      <th>scite3</th>\n",
       "      <th>dbsource</th>\n",
       "      <th>INT_LOG</th>\n",
       "      <th>INT_IDEO</th>\n",
       "      <th>INT_MISC</th>\n",
       "      <th>INT_ANY</th>\n",
       "      <th>related</th>\n",
       "    </tr>\n",
       "  </thead>\n",
       "  <tbody>\n",
       "    <tr>\n",
       "      <td>0</td>\n",
       "      <td>1.970000e+11</td>\n",
       "      <td>1970</td>\n",
       "      <td>7</td>\n",
       "      <td>2</td>\n",
       "      <td>NaN</td>\n",
       "      <td>0</td>\n",
       "      <td>NaN</td>\n",
       "      <td>58</td>\n",
       "      <td>Dominican Republic</td>\n",
       "      <td>2</td>\n",
       "      <td>...</td>\n",
       "      <td>NaN</td>\n",
       "      <td>NaN</td>\n",
       "      <td>NaN</td>\n",
       "      <td>NaN</td>\n",
       "      <td>PGIS</td>\n",
       "      <td>0</td>\n",
       "      <td>0</td>\n",
       "      <td>0</td>\n",
       "      <td>0</td>\n",
       "      <td>NaN</td>\n",
       "    </tr>\n",
       "    <tr>\n",
       "      <td>1</td>\n",
       "      <td>1.970000e+11</td>\n",
       "      <td>1970</td>\n",
       "      <td>0</td>\n",
       "      <td>0</td>\n",
       "      <td>NaN</td>\n",
       "      <td>0</td>\n",
       "      <td>NaN</td>\n",
       "      <td>130</td>\n",
       "      <td>Mexico</td>\n",
       "      <td>1</td>\n",
       "      <td>...</td>\n",
       "      <td>NaN</td>\n",
       "      <td>NaN</td>\n",
       "      <td>NaN</td>\n",
       "      <td>NaN</td>\n",
       "      <td>PGIS</td>\n",
       "      <td>0</td>\n",
       "      <td>1</td>\n",
       "      <td>1</td>\n",
       "      <td>1</td>\n",
       "      <td>NaN</td>\n",
       "    </tr>\n",
       "    <tr>\n",
       "      <td>2</td>\n",
       "      <td>1.970010e+11</td>\n",
       "      <td>1970</td>\n",
       "      <td>1</td>\n",
       "      <td>0</td>\n",
       "      <td>NaN</td>\n",
       "      <td>0</td>\n",
       "      <td>NaN</td>\n",
       "      <td>160</td>\n",
       "      <td>Philippines</td>\n",
       "      <td>5</td>\n",
       "      <td>...</td>\n",
       "      <td>NaN</td>\n",
       "      <td>NaN</td>\n",
       "      <td>NaN</td>\n",
       "      <td>NaN</td>\n",
       "      <td>PGIS</td>\n",
       "      <td>-9</td>\n",
       "      <td>-9</td>\n",
       "      <td>1</td>\n",
       "      <td>1</td>\n",
       "      <td>NaN</td>\n",
       "    </tr>\n",
       "    <tr>\n",
       "      <td>3</td>\n",
       "      <td>1.970010e+11</td>\n",
       "      <td>1970</td>\n",
       "      <td>1</td>\n",
       "      <td>0</td>\n",
       "      <td>NaN</td>\n",
       "      <td>0</td>\n",
       "      <td>NaN</td>\n",
       "      <td>78</td>\n",
       "      <td>Greece</td>\n",
       "      <td>8</td>\n",
       "      <td>...</td>\n",
       "      <td>NaN</td>\n",
       "      <td>NaN</td>\n",
       "      <td>NaN</td>\n",
       "      <td>NaN</td>\n",
       "      <td>PGIS</td>\n",
       "      <td>-9</td>\n",
       "      <td>-9</td>\n",
       "      <td>1</td>\n",
       "      <td>1</td>\n",
       "      <td>NaN</td>\n",
       "    </tr>\n",
       "    <tr>\n",
       "      <td>4</td>\n",
       "      <td>1.970010e+11</td>\n",
       "      <td>1970</td>\n",
       "      <td>1</td>\n",
       "      <td>0</td>\n",
       "      <td>NaN</td>\n",
       "      <td>0</td>\n",
       "      <td>NaN</td>\n",
       "      <td>101</td>\n",
       "      <td>Japan</td>\n",
       "      <td>4</td>\n",
       "      <td>...</td>\n",
       "      <td>NaN</td>\n",
       "      <td>NaN</td>\n",
       "      <td>NaN</td>\n",
       "      <td>NaN</td>\n",
       "      <td>PGIS</td>\n",
       "      <td>-9</td>\n",
       "      <td>-9</td>\n",
       "      <td>1</td>\n",
       "      <td>1</td>\n",
       "      <td>NaN</td>\n",
       "    </tr>\n",
       "  </tbody>\n",
       "</table>\n",
       "<p>5 rows × 135 columns</p>\n",
       "</div>"
      ],
      "text/plain": [
       "        eventid  iyear  imonth  iday approxdate  extended resolution  country  \\\n",
       "0  1.970000e+11   1970       7     2        NaN         0        NaN       58   \n",
       "1  1.970000e+11   1970       0     0        NaN         0        NaN      130   \n",
       "2  1.970010e+11   1970       1     0        NaN         0        NaN      160   \n",
       "3  1.970010e+11   1970       1     0        NaN         0        NaN       78   \n",
       "4  1.970010e+11   1970       1     0        NaN         0        NaN      101   \n",
       "\n",
       "          country_txt  region  ... addnotes scite1 scite2  scite3  dbsource  \\\n",
       "0  Dominican Republic       2  ...      NaN    NaN    NaN     NaN      PGIS   \n",
       "1              Mexico       1  ...      NaN    NaN    NaN     NaN      PGIS   \n",
       "2         Philippines       5  ...      NaN    NaN    NaN     NaN      PGIS   \n",
       "3              Greece       8  ...      NaN    NaN    NaN     NaN      PGIS   \n",
       "4               Japan       4  ...      NaN    NaN    NaN     NaN      PGIS   \n",
       "\n",
       "   INT_LOG  INT_IDEO INT_MISC INT_ANY  related  \n",
       "0        0         0        0       0      NaN  \n",
       "1        0         1        1       1      NaN  \n",
       "2       -9        -9        1       1      NaN  \n",
       "3       -9        -9        1       1      NaN  \n",
       "4       -9        -9        1       1      NaN  \n",
       "\n",
       "[5 rows x 135 columns]"
      ]
     },
     "execution_count": 174,
     "metadata": {},
     "output_type": "execute_result"
    }
   ],
   "source": [
    "#checking what the dataset looks like\n",
    "terrorism.head()"
   ]
  },
  {
   "cell_type": "code",
   "execution_count": 175,
   "metadata": {},
   "outputs": [],
   "source": [
    "#importing dataset 2\n",
    "happiness = pd.read_csv('2017.csv')"
   ]
  },
  {
   "cell_type": "code",
   "execution_count": 176,
   "metadata": {},
   "outputs": [
    {
     "data": {
      "text/html": [
       "<div>\n",
       "<style scoped>\n",
       "    .dataframe tbody tr th:only-of-type {\n",
       "        vertical-align: middle;\n",
       "    }\n",
       "\n",
       "    .dataframe tbody tr th {\n",
       "        vertical-align: top;\n",
       "    }\n",
       "\n",
       "    .dataframe thead th {\n",
       "        text-align: right;\n",
       "    }\n",
       "</style>\n",
       "<table border=\"1\" class=\"dataframe\">\n",
       "  <thead>\n",
       "    <tr style=\"text-align: right;\">\n",
       "      <th></th>\n",
       "      <th>Country</th>\n",
       "      <th>Happiness.Rank</th>\n",
       "      <th>Happiness.Score</th>\n",
       "      <th>Whisker.high</th>\n",
       "      <th>Whisker.low</th>\n",
       "      <th>Economy..GDP.per.Capita.</th>\n",
       "      <th>Family</th>\n",
       "      <th>Health..Life.Expectancy.</th>\n",
       "      <th>Freedom</th>\n",
       "      <th>Generosity</th>\n",
       "      <th>Trust..Government.Corruption.</th>\n",
       "      <th>Dystopia.Residual</th>\n",
       "    </tr>\n",
       "  </thead>\n",
       "  <tbody>\n",
       "    <tr>\n",
       "      <td>0</td>\n",
       "      <td>Norway</td>\n",
       "      <td>1</td>\n",
       "      <td>7.537</td>\n",
       "      <td>7.594445</td>\n",
       "      <td>7.479556</td>\n",
       "      <td>1.616463</td>\n",
       "      <td>1.533524</td>\n",
       "      <td>0.796667</td>\n",
       "      <td>0.635423</td>\n",
       "      <td>0.362012</td>\n",
       "      <td>0.315964</td>\n",
       "      <td>2.277027</td>\n",
       "    </tr>\n",
       "    <tr>\n",
       "      <td>1</td>\n",
       "      <td>Denmark</td>\n",
       "      <td>2</td>\n",
       "      <td>7.522</td>\n",
       "      <td>7.581728</td>\n",
       "      <td>7.462272</td>\n",
       "      <td>1.482383</td>\n",
       "      <td>1.551122</td>\n",
       "      <td>0.792566</td>\n",
       "      <td>0.626007</td>\n",
       "      <td>0.355280</td>\n",
       "      <td>0.400770</td>\n",
       "      <td>2.313707</td>\n",
       "    </tr>\n",
       "    <tr>\n",
       "      <td>2</td>\n",
       "      <td>Iceland</td>\n",
       "      <td>3</td>\n",
       "      <td>7.504</td>\n",
       "      <td>7.622030</td>\n",
       "      <td>7.385970</td>\n",
       "      <td>1.480633</td>\n",
       "      <td>1.610574</td>\n",
       "      <td>0.833552</td>\n",
       "      <td>0.627163</td>\n",
       "      <td>0.475540</td>\n",
       "      <td>0.153527</td>\n",
       "      <td>2.322715</td>\n",
       "    </tr>\n",
       "    <tr>\n",
       "      <td>3</td>\n",
       "      <td>Switzerland</td>\n",
       "      <td>4</td>\n",
       "      <td>7.494</td>\n",
       "      <td>7.561772</td>\n",
       "      <td>7.426227</td>\n",
       "      <td>1.564980</td>\n",
       "      <td>1.516912</td>\n",
       "      <td>0.858131</td>\n",
       "      <td>0.620071</td>\n",
       "      <td>0.290549</td>\n",
       "      <td>0.367007</td>\n",
       "      <td>2.276716</td>\n",
       "    </tr>\n",
       "    <tr>\n",
       "      <td>4</td>\n",
       "      <td>Finland</td>\n",
       "      <td>5</td>\n",
       "      <td>7.469</td>\n",
       "      <td>7.527542</td>\n",
       "      <td>7.410458</td>\n",
       "      <td>1.443572</td>\n",
       "      <td>1.540247</td>\n",
       "      <td>0.809158</td>\n",
       "      <td>0.617951</td>\n",
       "      <td>0.245483</td>\n",
       "      <td>0.382612</td>\n",
       "      <td>2.430182</td>\n",
       "    </tr>\n",
       "  </tbody>\n",
       "</table>\n",
       "</div>"
      ],
      "text/plain": [
       "       Country  Happiness.Rank  Happiness.Score  Whisker.high  Whisker.low  \\\n",
       "0       Norway               1            7.537      7.594445     7.479556   \n",
       "1      Denmark               2            7.522      7.581728     7.462272   \n",
       "2      Iceland               3            7.504      7.622030     7.385970   \n",
       "3  Switzerland               4            7.494      7.561772     7.426227   \n",
       "4      Finland               5            7.469      7.527542     7.410458   \n",
       "\n",
       "   Economy..GDP.per.Capita.    Family  Health..Life.Expectancy.   Freedom  \\\n",
       "0                  1.616463  1.533524                  0.796667  0.635423   \n",
       "1                  1.482383  1.551122                  0.792566  0.626007   \n",
       "2                  1.480633  1.610574                  0.833552  0.627163   \n",
       "3                  1.564980  1.516912                  0.858131  0.620071   \n",
       "4                  1.443572  1.540247                  0.809158  0.617951   \n",
       "\n",
       "   Generosity  Trust..Government.Corruption.  Dystopia.Residual  \n",
       "0    0.362012                       0.315964           2.277027  \n",
       "1    0.355280                       0.400770           2.313707  \n",
       "2    0.475540                       0.153527           2.322715  \n",
       "3    0.290549                       0.367007           2.276716  \n",
       "4    0.245483                       0.382612           2.430182  "
      ]
     },
     "execution_count": 176,
     "metadata": {},
     "output_type": "execute_result"
    }
   ],
   "source": [
    "#checking what the dataset looks like\n",
    "happiness.head()"
   ]
  },
  {
   "cell_type": "markdown",
   "metadata": {},
   "source": [
    "# Data Cleaning and Merging"
   ]
  },
  {
   "cell_type": "code",
   "execution_count": 177,
   "metadata": {},
   "outputs": [],
   "source": [
    "#renaming the columns\n",
    "terrorism.rename(columns={'iyear':'Year',\n",
    "                   'imonth':'Month',\n",
    "                   'iday':'Day',\n",
    "                   'country_txt':'Country',\n",
    "                   'region_txt':'Region',\n",
    "                   'attacktype1_txt':'AttackType',\n",
    "                   'target1':'Target',\n",
    "                   'nkill':'Killed',\n",
    "                   'nwound':'Wounded',\n",
    "                   'summary':'Summary',\n",
    "                   'gname':'Group',\n",
    "                   'targtype1_txt':'Target_type',\n",
    "                   'targsubtype1_txt':'Sub_Target_type',\n",
    "                   'weapsubtype1_txt':'Sub_Weapon_type',\n",
    "                   'weaptype1_txt':'Weapon_type',\n",
    "                   'suicide':'suicide',\n",
    "                   'motive':'Motive'},inplace=True)\n"
   ]
  },
  {
   "cell_type": "code",
   "execution_count": 178,
   "metadata": {},
   "outputs": [],
   "source": [
    "#picking the important columns \n",
    "df=terrorism[['Year','Month','Day','Country','Region','city','latitude','longitude'\n",
    "       ,'AttackType','Killed','Wounded','Target','Group','Target_type','Sub_Target_type',\\\n",
    "          'success', 'suicide','Weapon_type','Sub_Weapon_type','Motive','Summary','addnotes']]\n",
    "#creating new columns\n",
    "df['Total_num']=df.Wounded+df.Killed\n",
    "df.loc[:,'casualities']  = np.where((df.Killed + df.Wounded)>0.0, 1, 0)"
   ]
  },
  {
   "cell_type": "code",
   "execution_count": 179,
   "metadata": {},
   "outputs": [],
   "source": [
    "#cleaning the data\n",
    "df=df[(df.Month!= 0)&(df.Day!= 0)]\n",
    "df=df.drop(['Target'],axis=1)"
   ]
  },
  {
   "cell_type": "code",
   "execution_count": 180,
   "metadata": {},
   "outputs": [
    {
     "data": {
      "text/plain": [
       "Index(['Year', 'Month', 'Day', 'Country', 'Region', 'city', 'latitude',\n",
       "       'longitude', 'AttackType', 'Killed', 'Wounded', 'Group', 'Target_type',\n",
       "       'Sub_Target_type', 'success', 'suicide', 'Weapon_type',\n",
       "       'Sub_Weapon_type', 'Motive', 'Summary', 'addnotes', 'Total_num',\n",
       "       'casualities'],\n",
       "      dtype='object')"
      ]
     },
     "execution_count": 180,
     "metadata": {},
     "output_type": "execute_result"
    }
   ],
   "source": [
    "df.columns.unique()"
   ]
  },
  {
   "cell_type": "code",
   "execution_count": 181,
   "metadata": {},
   "outputs": [
    {
     "data": {
      "text/html": [
       "<div>\n",
       "<style scoped>\n",
       "    .dataframe tbody tr th:only-of-type {\n",
       "        vertical-align: middle;\n",
       "    }\n",
       "\n",
       "    .dataframe tbody tr th {\n",
       "        vertical-align: top;\n",
       "    }\n",
       "\n",
       "    .dataframe thead th {\n",
       "        text-align: right;\n",
       "    }\n",
       "</style>\n",
       "<table border=\"1\" class=\"dataframe\">\n",
       "  <thead>\n",
       "    <tr style=\"text-align: right;\">\n",
       "      <th></th>\n",
       "      <th>Year</th>\n",
       "      <th>Month</th>\n",
       "      <th>Day</th>\n",
       "      <th>Country</th>\n",
       "      <th>Region</th>\n",
       "      <th>city</th>\n",
       "      <th>latitude</th>\n",
       "      <th>longitude</th>\n",
       "      <th>AttackType</th>\n",
       "      <th>Killed</th>\n",
       "      <th>...</th>\n",
       "      <th>Sub_Target_type</th>\n",
       "      <th>success</th>\n",
       "      <th>suicide</th>\n",
       "      <th>Weapon_type</th>\n",
       "      <th>Sub_Weapon_type</th>\n",
       "      <th>Motive</th>\n",
       "      <th>Summary</th>\n",
       "      <th>addnotes</th>\n",
       "      <th>Total_num</th>\n",
       "      <th>casualities</th>\n",
       "    </tr>\n",
       "  </thead>\n",
       "  <tbody>\n",
       "    <tr>\n",
       "      <td>0</td>\n",
       "      <td>1970</td>\n",
       "      <td>7</td>\n",
       "      <td>2</td>\n",
       "      <td>Dominican Republic</td>\n",
       "      <td>Central America &amp; Caribbean</td>\n",
       "      <td>Santo Domingo</td>\n",
       "      <td>18.456792</td>\n",
       "      <td>-69.951164</td>\n",
       "      <td>Assassination</td>\n",
       "      <td>1.0</td>\n",
       "      <td>...</td>\n",
       "      <td>Named Civilian</td>\n",
       "      <td>1</td>\n",
       "      <td>0</td>\n",
       "      <td>Unknown</td>\n",
       "      <td>NaN</td>\n",
       "      <td>NaN</td>\n",
       "      <td>NaN</td>\n",
       "      <td>NaN</td>\n",
       "      <td>1.0</td>\n",
       "      <td>1</td>\n",
       "    </tr>\n",
       "    <tr>\n",
       "      <td>5</td>\n",
       "      <td>1970</td>\n",
       "      <td>1</td>\n",
       "      <td>1</td>\n",
       "      <td>United States</td>\n",
       "      <td>North America</td>\n",
       "      <td>Cairo</td>\n",
       "      <td>37.005105</td>\n",
       "      <td>-89.176269</td>\n",
       "      <td>Armed Assault</td>\n",
       "      <td>0.0</td>\n",
       "      <td>...</td>\n",
       "      <td>Police Building (headquarters, station, school)</td>\n",
       "      <td>1</td>\n",
       "      <td>0</td>\n",
       "      <td>Firearms</td>\n",
       "      <td>Unknown Gun Type</td>\n",
       "      <td>To protest the Cairo Illinois Police Deparment</td>\n",
       "      <td>1/1/1970: Unknown African American assailants ...</td>\n",
       "      <td>The Cairo Chief of Police, William Petersen, r...</td>\n",
       "      <td>0.0</td>\n",
       "      <td>0</td>\n",
       "    </tr>\n",
       "    <tr>\n",
       "      <td>6</td>\n",
       "      <td>1970</td>\n",
       "      <td>1</td>\n",
       "      <td>2</td>\n",
       "      <td>Uruguay</td>\n",
       "      <td>South America</td>\n",
       "      <td>Montevideo</td>\n",
       "      <td>-34.891151</td>\n",
       "      <td>-56.187214</td>\n",
       "      <td>Assassination</td>\n",
       "      <td>0.0</td>\n",
       "      <td>...</td>\n",
       "      <td>Police Security Forces/Officers</td>\n",
       "      <td>0</td>\n",
       "      <td>0</td>\n",
       "      <td>Firearms</td>\n",
       "      <td>Automatic or Semi-Automatic Rifle</td>\n",
       "      <td>NaN</td>\n",
       "      <td>NaN</td>\n",
       "      <td>NaN</td>\n",
       "      <td>0.0</td>\n",
       "      <td>0</td>\n",
       "    </tr>\n",
       "  </tbody>\n",
       "</table>\n",
       "<p>3 rows × 23 columns</p>\n",
       "</div>"
      ],
      "text/plain": [
       "   Year  Month  Day             Country                       Region  \\\n",
       "0  1970      7    2  Dominican Republic  Central America & Caribbean   \n",
       "5  1970      1    1       United States                North America   \n",
       "6  1970      1    2             Uruguay                South America   \n",
       "\n",
       "            city   latitude  longitude     AttackType  Killed  ...  \\\n",
       "0  Santo Domingo  18.456792 -69.951164  Assassination     1.0  ...   \n",
       "5          Cairo  37.005105 -89.176269  Armed Assault     0.0  ...   \n",
       "6     Montevideo -34.891151 -56.187214  Assassination     0.0  ...   \n",
       "\n",
       "                                   Sub_Target_type success suicide  \\\n",
       "0                                   Named Civilian       1       0   \n",
       "5  Police Building (headquarters, station, school)       1       0   \n",
       "6                  Police Security Forces/Officers       0       0   \n",
       "\n",
       "  Weapon_type                    Sub_Weapon_type  \\\n",
       "0     Unknown                                NaN   \n",
       "5    Firearms                   Unknown Gun Type   \n",
       "6    Firearms  Automatic or Semi-Automatic Rifle   \n",
       "\n",
       "                                           Motive  \\\n",
       "0                                             NaN   \n",
       "5  To protest the Cairo Illinois Police Deparment   \n",
       "6                                             NaN   \n",
       "\n",
       "                                             Summary  \\\n",
       "0                                                NaN   \n",
       "5  1/1/1970: Unknown African American assailants ...   \n",
       "6                                                NaN   \n",
       "\n",
       "                                            addnotes Total_num casualities  \n",
       "0                                                NaN       1.0           1  \n",
       "5  The Cairo Chief of Police, William Petersen, r...       0.0           0  \n",
       "6                                                NaN       0.0           0  \n",
       "\n",
       "[3 rows x 23 columns]"
      ]
     },
     "execution_count": 181,
     "metadata": {},
     "output_type": "execute_result"
    }
   ],
   "source": [
    "df.head(3)"
   ]
  },
  {
   "cell_type": "code",
   "execution_count": 182,
   "metadata": {},
   "outputs": [],
   "source": [
    "#renaming columns in dataset 2\n",
    "happiness.rename(columns={'Happiness.Rank':'Happiness_Rank',\n",
    "                   'Happiness.Score':'Happiness_Score'},inplace=True)"
   ]
  },
  {
   "cell_type": "code",
   "execution_count": 183,
   "metadata": {},
   "outputs": [],
   "source": [
    "#choosing the columns to keep\n",
    "df2=happiness[['Country', 'Happiness_Rank', 'Happiness_Score' ]]"
   ]
  },
  {
   "cell_type": "code",
   "execution_count": 184,
   "metadata": {},
   "outputs": [
    {
     "data": {
      "text/html": [
       "<div>\n",
       "<style scoped>\n",
       "    .dataframe tbody tr th:only-of-type {\n",
       "        vertical-align: middle;\n",
       "    }\n",
       "\n",
       "    .dataframe tbody tr th {\n",
       "        vertical-align: top;\n",
       "    }\n",
       "\n",
       "    .dataframe thead th {\n",
       "        text-align: right;\n",
       "    }\n",
       "</style>\n",
       "<table border=\"1\" class=\"dataframe\">\n",
       "  <thead>\n",
       "    <tr style=\"text-align: right;\">\n",
       "      <th></th>\n",
       "      <th>Country</th>\n",
       "      <th>Happiness_Rank</th>\n",
       "      <th>Happiness_Score</th>\n",
       "    </tr>\n",
       "  </thead>\n",
       "  <tbody>\n",
       "    <tr>\n",
       "      <td>0</td>\n",
       "      <td>Norway</td>\n",
       "      <td>1</td>\n",
       "      <td>7.537</td>\n",
       "    </tr>\n",
       "    <tr>\n",
       "      <td>1</td>\n",
       "      <td>Denmark</td>\n",
       "      <td>2</td>\n",
       "      <td>7.522</td>\n",
       "    </tr>\n",
       "    <tr>\n",
       "      <td>2</td>\n",
       "      <td>Iceland</td>\n",
       "      <td>3</td>\n",
       "      <td>7.504</td>\n",
       "    </tr>\n",
       "    <tr>\n",
       "      <td>3</td>\n",
       "      <td>Switzerland</td>\n",
       "      <td>4</td>\n",
       "      <td>7.494</td>\n",
       "    </tr>\n",
       "    <tr>\n",
       "      <td>4</td>\n",
       "      <td>Finland</td>\n",
       "      <td>5</td>\n",
       "      <td>7.469</td>\n",
       "    </tr>\n",
       "  </tbody>\n",
       "</table>\n",
       "</div>"
      ],
      "text/plain": [
       "       Country  Happiness_Rank  Happiness_Score\n",
       "0       Norway               1            7.537\n",
       "1      Denmark               2            7.522\n",
       "2      Iceland               3            7.504\n",
       "3  Switzerland               4            7.494\n",
       "4      Finland               5            7.469"
      ]
     },
     "execution_count": 184,
     "metadata": {},
     "output_type": "execute_result"
    }
   ],
   "source": [
    "df2.head()"
   ]
  },
  {
   "cell_type": "code",
   "execution_count": 185,
   "metadata": {},
   "outputs": [],
   "source": [
    "#merging both the datasets\n",
    "df_new=df.merge(df2, left_on='Country', right_on='Country')"
   ]
  },
  {
   "cell_type": "code",
   "execution_count": 186,
   "metadata": {},
   "outputs": [
    {
     "data": {
      "text/html": [
       "<div>\n",
       "<style scoped>\n",
       "    .dataframe tbody tr th:only-of-type {\n",
       "        vertical-align: middle;\n",
       "    }\n",
       "\n",
       "    .dataframe tbody tr th {\n",
       "        vertical-align: top;\n",
       "    }\n",
       "\n",
       "    .dataframe thead th {\n",
       "        text-align: right;\n",
       "    }\n",
       "</style>\n",
       "<table border=\"1\" class=\"dataframe\">\n",
       "  <thead>\n",
       "    <tr style=\"text-align: right;\">\n",
       "      <th></th>\n",
       "      <th>Year</th>\n",
       "      <th>Month</th>\n",
       "      <th>Day</th>\n",
       "      <th>Country</th>\n",
       "      <th>Region</th>\n",
       "      <th>city</th>\n",
       "      <th>latitude</th>\n",
       "      <th>longitude</th>\n",
       "      <th>AttackType</th>\n",
       "      <th>Killed</th>\n",
       "      <th>...</th>\n",
       "      <th>suicide</th>\n",
       "      <th>Weapon_type</th>\n",
       "      <th>Sub_Weapon_type</th>\n",
       "      <th>Motive</th>\n",
       "      <th>Summary</th>\n",
       "      <th>addnotes</th>\n",
       "      <th>Total_num</th>\n",
       "      <th>casualities</th>\n",
       "      <th>Happiness_Rank</th>\n",
       "      <th>Happiness_Score</th>\n",
       "    </tr>\n",
       "  </thead>\n",
       "  <tbody>\n",
       "    <tr>\n",
       "      <td>0</td>\n",
       "      <td>1970</td>\n",
       "      <td>7</td>\n",
       "      <td>2</td>\n",
       "      <td>Dominican Republic</td>\n",
       "      <td>Central America &amp; Caribbean</td>\n",
       "      <td>Santo Domingo</td>\n",
       "      <td>18.456792</td>\n",
       "      <td>-69.951164</td>\n",
       "      <td>Assassination</td>\n",
       "      <td>1.0</td>\n",
       "      <td>...</td>\n",
       "      <td>0</td>\n",
       "      <td>Unknown</td>\n",
       "      <td>NaN</td>\n",
       "      <td>NaN</td>\n",
       "      <td>NaN</td>\n",
       "      <td>NaN</td>\n",
       "      <td>1.0</td>\n",
       "      <td>1</td>\n",
       "      <td>86</td>\n",
       "      <td>5.23</td>\n",
       "    </tr>\n",
       "    <tr>\n",
       "      <td>1</td>\n",
       "      <td>1970</td>\n",
       "      <td>3</td>\n",
       "      <td>24</td>\n",
       "      <td>Dominican Republic</td>\n",
       "      <td>Central America &amp; Caribbean</td>\n",
       "      <td>Santo Domingo</td>\n",
       "      <td>18.456792</td>\n",
       "      <td>-69.951164</td>\n",
       "      <td>Hostage Taking (Kidnapping)</td>\n",
       "      <td>0.0</td>\n",
       "      <td>...</td>\n",
       "      <td>0</td>\n",
       "      <td>Unknown</td>\n",
       "      <td>NaN</td>\n",
       "      <td>NaN</td>\n",
       "      <td>NaN</td>\n",
       "      <td>NaN</td>\n",
       "      <td>0.0</td>\n",
       "      <td>0</td>\n",
       "      <td>86</td>\n",
       "      <td>5.23</td>\n",
       "    </tr>\n",
       "    <tr>\n",
       "      <td>2</td>\n",
       "      <td>1971</td>\n",
       "      <td>1</td>\n",
       "      <td>28</td>\n",
       "      <td>Dominican Republic</td>\n",
       "      <td>Central America &amp; Caribbean</td>\n",
       "      <td>Santo Domingo</td>\n",
       "      <td>18.456792</td>\n",
       "      <td>-69.951164</td>\n",
       "      <td>Armed Assault</td>\n",
       "      <td>0.0</td>\n",
       "      <td>...</td>\n",
       "      <td>0</td>\n",
       "      <td>Firearms</td>\n",
       "      <td>Automatic or Semi-Automatic Rifle</td>\n",
       "      <td>NaN</td>\n",
       "      <td>NaN</td>\n",
       "      <td>NaN</td>\n",
       "      <td>0.0</td>\n",
       "      <td>0</td>\n",
       "      <td>86</td>\n",
       "      <td>5.23</td>\n",
       "    </tr>\n",
       "    <tr>\n",
       "      <td>3</td>\n",
       "      <td>1971</td>\n",
       "      <td>1</td>\n",
       "      <td>28</td>\n",
       "      <td>Dominican Republic</td>\n",
       "      <td>Central America &amp; Caribbean</td>\n",
       "      <td>Santo Domingo</td>\n",
       "      <td>18.456792</td>\n",
       "      <td>-69.951164</td>\n",
       "      <td>Armed Assault</td>\n",
       "      <td>0.0</td>\n",
       "      <td>...</td>\n",
       "      <td>0</td>\n",
       "      <td>Firearms</td>\n",
       "      <td>Automatic or Semi-Automatic Rifle</td>\n",
       "      <td>NaN</td>\n",
       "      <td>NaN</td>\n",
       "      <td>NaN</td>\n",
       "      <td>0.0</td>\n",
       "      <td>0</td>\n",
       "      <td>86</td>\n",
       "      <td>5.23</td>\n",
       "    </tr>\n",
       "    <tr>\n",
       "      <td>4</td>\n",
       "      <td>1971</td>\n",
       "      <td>5</td>\n",
       "      <td>11</td>\n",
       "      <td>Dominican Republic</td>\n",
       "      <td>Central America &amp; Caribbean</td>\n",
       "      <td>Santo Domingo</td>\n",
       "      <td>18.456792</td>\n",
       "      <td>-69.951164</td>\n",
       "      <td>Assassination</td>\n",
       "      <td>0.0</td>\n",
       "      <td>...</td>\n",
       "      <td>0</td>\n",
       "      <td>Explosives</td>\n",
       "      <td>Unknown Explosive Type</td>\n",
       "      <td>NaN</td>\n",
       "      <td>NaN</td>\n",
       "      <td>NaN</td>\n",
       "      <td>0.0</td>\n",
       "      <td>0</td>\n",
       "      <td>86</td>\n",
       "      <td>5.23</td>\n",
       "    </tr>\n",
       "  </tbody>\n",
       "</table>\n",
       "<p>5 rows × 25 columns</p>\n",
       "</div>"
      ],
      "text/plain": [
       "   Year  Month  Day             Country                       Region  \\\n",
       "0  1970      7    2  Dominican Republic  Central America & Caribbean   \n",
       "1  1970      3   24  Dominican Republic  Central America & Caribbean   \n",
       "2  1971      1   28  Dominican Republic  Central America & Caribbean   \n",
       "3  1971      1   28  Dominican Republic  Central America & Caribbean   \n",
       "4  1971      5   11  Dominican Republic  Central America & Caribbean   \n",
       "\n",
       "            city   latitude  longitude                   AttackType  Killed  \\\n",
       "0  Santo Domingo  18.456792 -69.951164                Assassination     1.0   \n",
       "1  Santo Domingo  18.456792 -69.951164  Hostage Taking (Kidnapping)     0.0   \n",
       "2  Santo Domingo  18.456792 -69.951164                Armed Assault     0.0   \n",
       "3  Santo Domingo  18.456792 -69.951164                Armed Assault     0.0   \n",
       "4  Santo Domingo  18.456792 -69.951164                Assassination     0.0   \n",
       "\n",
       "   ...  suicide Weapon_type                    Sub_Weapon_type Motive  \\\n",
       "0  ...        0     Unknown                                NaN    NaN   \n",
       "1  ...        0     Unknown                                NaN    NaN   \n",
       "2  ...        0    Firearms  Automatic or Semi-Automatic Rifle    NaN   \n",
       "3  ...        0    Firearms  Automatic or Semi-Automatic Rifle    NaN   \n",
       "4  ...        0  Explosives             Unknown Explosive Type    NaN   \n",
       "\n",
       "   Summary  addnotes Total_num casualities Happiness_Rank Happiness_Score  \n",
       "0      NaN       NaN       1.0           1             86            5.23  \n",
       "1      NaN       NaN       0.0           0             86            5.23  \n",
       "2      NaN       NaN       0.0           0             86            5.23  \n",
       "3      NaN       NaN       0.0           0             86            5.23  \n",
       "4      NaN       NaN       0.0           0             86            5.23  \n",
       "\n",
       "[5 rows x 25 columns]"
      ]
     },
     "execution_count": 186,
     "metadata": {},
     "output_type": "execute_result"
    }
   ],
   "source": [
    "#checking what the new dataset looks like\n",
    "df_new.head()"
   ]
  },
  {
   "cell_type": "markdown",
   "metadata": {},
   "source": [
    "# PART TWO :  DATA ANALYSIS"
   ]
  },
  {
   "cell_type": "markdown",
   "metadata": {},
   "source": [
    "# 1. Happiness quotient in the countries most attacked by terrorists"
   ]
  },
  {
   "cell_type": "markdown",
   "metadata": {},
   "source": [
    "On checking, the most attacked regions, Middle-East and North Africa were the most attacked regions! We also found out that Iraq was the most attacked country. We then checked the Happiness score for the top 10 most attacked countries in Middle-East and North Africa. Surprisingly, Iraq was not the country with the lowest Happiness Score. Syria had the lowest score, followed by Yemen and then Iraq! "
   ]
  },
  {
   "cell_type": "code",
   "execution_count": 187,
   "metadata": {},
   "outputs": [
    {
     "data": {
      "image/png": "[encoded data removed]",
      "text/plain": [
       "<Figure size 1080x432 with 1 Axes>"
      ]
     },
     "metadata": {
      "needs_background": "light"
     },
     "output_type": "display_data"
    }
   ],
   "source": [
    "#We will find out the top 10 attacked regions\n",
    "plt.subplots(figsize=(15,6))\n",
    "sns.countplot('Region',data=df_new,palette='RdYlGn',edgecolor=sns.color_palette('dark',7),order=df_new['Region'].value_counts().index)\n",
    "plt.xticks(rotation=90)\n",
    "plt.title('Number Of Terrorist Activities By Region')\n",
    "plt.show()"
   ]
  },
  {
   "cell_type": "markdown",
   "metadata": {},
   "source": [
    "As we can see, Middle East and North Africa is the Region with the maximum number of terrorist attacks. "
   ]
  },
  {
   "cell_type": "code",
   "execution_count": 188,
   "metadata": {},
   "outputs": [
    {
     "data": {
      "text/html": [
       "<div>\n",
       "<style scoped>\n",
       "    .dataframe tbody tr th:only-of-type {\n",
       "        vertical-align: middle;\n",
       "    }\n",
       "\n",
       "    .dataframe tbody tr th {\n",
       "        vertical-align: top;\n",
       "    }\n",
       "\n",
       "    .dataframe thead th {\n",
       "        text-align: right;\n",
       "    }\n",
       "</style>\n",
       "<table border=\"1\" class=\"dataframe\">\n",
       "  <thead>\n",
       "    <tr style=\"text-align: right;\">\n",
       "      <th></th>\n",
       "      <th>Year</th>\n",
       "      <th>Month</th>\n",
       "      <th>Day</th>\n",
       "      <th>Country</th>\n",
       "      <th>Region</th>\n",
       "      <th>city</th>\n",
       "      <th>latitude</th>\n",
       "      <th>longitude</th>\n",
       "      <th>AttackType</th>\n",
       "      <th>Killed</th>\n",
       "      <th>...</th>\n",
       "      <th>suicide</th>\n",
       "      <th>Weapon_type</th>\n",
       "      <th>Sub_Weapon_type</th>\n",
       "      <th>Motive</th>\n",
       "      <th>Summary</th>\n",
       "      <th>addnotes</th>\n",
       "      <th>Total_num</th>\n",
       "      <th>casualities</th>\n",
       "      <th>Happiness_Rank</th>\n",
       "      <th>Happiness_Score</th>\n",
       "    </tr>\n",
       "  </thead>\n",
       "  <tbody>\n",
       "    <tr>\n",
       "      <td>13995</td>\n",
       "      <td>1970</td>\n",
       "      <td>2</td>\n",
       "      <td>28</td>\n",
       "      <td>Jordan</td>\n",
       "      <td>Middle East &amp; North Africa</td>\n",
       "      <td>Hebron</td>\n",
       "      <td>31.530243</td>\n",
       "      <td>35.094162</td>\n",
       "      <td>Armed Assault</td>\n",
       "      <td>NaN</td>\n",
       "      <td>...</td>\n",
       "      <td>0</td>\n",
       "      <td>Firearms</td>\n",
       "      <td>Automatic or Semi-Automatic Rifle</td>\n",
       "      <td>NaN</td>\n",
       "      <td>NaN</td>\n",
       "      <td>NaN</td>\n",
       "      <td>NaN</td>\n",
       "      <td>0</td>\n",
       "      <td>74</td>\n",
       "      <td>5.336</td>\n",
       "    </tr>\n",
       "    <tr>\n",
       "      <td>13996</td>\n",
       "      <td>1970</td>\n",
       "      <td>4</td>\n",
       "      <td>15</td>\n",
       "      <td>Jordan</td>\n",
       "      <td>Middle East &amp; North Africa</td>\n",
       "      <td>Amman</td>\n",
       "      <td>31.950001</td>\n",
       "      <td>35.933331</td>\n",
       "      <td>Bombing/Explosion</td>\n",
       "      <td>0.0</td>\n",
       "      <td>...</td>\n",
       "      <td>0</td>\n",
       "      <td>Explosives</td>\n",
       "      <td>Unknown Explosive Type</td>\n",
       "      <td>NaN</td>\n",
       "      <td>NaN</td>\n",
       "      <td>NaN</td>\n",
       "      <td>0.0</td>\n",
       "      <td>0</td>\n",
       "      <td>74</td>\n",
       "      <td>5.336</td>\n",
       "    </tr>\n",
       "    <tr>\n",
       "      <td>13997</td>\n",
       "      <td>1970</td>\n",
       "      <td>6</td>\n",
       "      <td>7</td>\n",
       "      <td>Jordan</td>\n",
       "      <td>Middle East &amp; North Africa</td>\n",
       "      <td>Amman</td>\n",
       "      <td>31.950001</td>\n",
       "      <td>35.933331</td>\n",
       "      <td>Unknown</td>\n",
       "      <td>0.0</td>\n",
       "      <td>...</td>\n",
       "      <td>0</td>\n",
       "      <td>Unknown</td>\n",
       "      <td>NaN</td>\n",
       "      <td>NaN</td>\n",
       "      <td>NaN</td>\n",
       "      <td>NaN</td>\n",
       "      <td>1.0</td>\n",
       "      <td>1</td>\n",
       "      <td>74</td>\n",
       "      <td>5.336</td>\n",
       "    </tr>\n",
       "    <tr>\n",
       "      <td>13998</td>\n",
       "      <td>1970</td>\n",
       "      <td>6</td>\n",
       "      <td>7</td>\n",
       "      <td>Jordan</td>\n",
       "      <td>Middle East &amp; North Africa</td>\n",
       "      <td>Amman</td>\n",
       "      <td>31.950001</td>\n",
       "      <td>35.933331</td>\n",
       "      <td>Hostage Taking (Kidnapping)</td>\n",
       "      <td>NaN</td>\n",
       "      <td>...</td>\n",
       "      <td>0</td>\n",
       "      <td>Unknown</td>\n",
       "      <td>NaN</td>\n",
       "      <td>NaN</td>\n",
       "      <td>NaN</td>\n",
       "      <td>NaN</td>\n",
       "      <td>NaN</td>\n",
       "      <td>0</td>\n",
       "      <td>74</td>\n",
       "      <td>5.336</td>\n",
       "    </tr>\n",
       "    <tr>\n",
       "      <td>13999</td>\n",
       "      <td>1970</td>\n",
       "      <td>6</td>\n",
       "      <td>9</td>\n",
       "      <td>Jordan</td>\n",
       "      <td>Middle East &amp; North Africa</td>\n",
       "      <td>Amman</td>\n",
       "      <td>31.950001</td>\n",
       "      <td>35.933331</td>\n",
       "      <td>Hostage Taking (Barricade Incident)</td>\n",
       "      <td>0.0</td>\n",
       "      <td>...</td>\n",
       "      <td>0</td>\n",
       "      <td>Firearms</td>\n",
       "      <td>Automatic or Semi-Automatic Rifle</td>\n",
       "      <td>NaN</td>\n",
       "      <td>NaN</td>\n",
       "      <td>NaN</td>\n",
       "      <td>0.0</td>\n",
       "      <td>0</td>\n",
       "      <td>74</td>\n",
       "      <td>5.336</td>\n",
       "    </tr>\n",
       "  </tbody>\n",
       "</table>\n",
       "<p>5 rows × 25 columns</p>\n",
       "</div>"
      ],
      "text/plain": [
       "       Year  Month  Day Country                      Region    city  \\\n",
       "13995  1970      2   28  Jordan  Middle East & North Africa  Hebron   \n",
       "13996  1970      4   15  Jordan  Middle East & North Africa   Amman   \n",
       "13997  1970      6    7  Jordan  Middle East & North Africa   Amman   \n",
       "13998  1970      6    7  Jordan  Middle East & North Africa   Amman   \n",
       "13999  1970      6    9  Jordan  Middle East & North Africa   Amman   \n",
       "\n",
       "        latitude  longitude                           AttackType  Killed  ...  \\\n",
       "13995  31.530243  35.094162                        Armed Assault     NaN  ...   \n",
       "13996  31.950001  35.933331                    Bombing/Explosion     0.0  ...   \n",
       "13997  31.950001  35.933331                              Unknown     0.0  ...   \n",
       "13998  31.950001  35.933331          Hostage Taking (Kidnapping)     NaN  ...   \n",
       "13999  31.950001  35.933331  Hostage Taking (Barricade Incident)     0.0  ...   \n",
       "\n",
       "       suicide Weapon_type                    Sub_Weapon_type Motive  Summary  \\\n",
       "13995        0    Firearms  Automatic or Semi-Automatic Rifle    NaN      NaN   \n",
       "13996        0  Explosives             Unknown Explosive Type    NaN      NaN   \n",
       "13997        0     Unknown                                NaN    NaN      NaN   \n",
       "13998        0     Unknown                                NaN    NaN      NaN   \n",
       "13999        0    Firearms  Automatic or Semi-Automatic Rifle    NaN      NaN   \n",
       "\n",
       "       addnotes Total_num casualities Happiness_Rank Happiness_Score  \n",
       "13995       NaN       NaN           0             74           5.336  \n",
       "13996       NaN       0.0           0             74           5.336  \n",
       "13997       NaN       1.0           1             74           5.336  \n",
       "13998       NaN       NaN           0             74           5.336  \n",
       "13999       NaN       0.0           0             74           5.336  \n",
       "\n",
       "[5 rows x 25 columns]"
      ]
     },
     "execution_count": 188,
     "metadata": {},
     "output_type": "execute_result"
    }
   ],
   "source": [
    "#we will narrow down to only the countries that fall under the region 'Middle East & North Africa'\n",
    "Region_MiddleEast = df_new[df_new.Region == 'Middle East & North Africa']\n",
    "Region_MiddleEast.head()"
   ]
  },
  {
   "cell_type": "code",
   "execution_count": 189,
   "metadata": {},
   "outputs": [
    {
     "data": {
      "image/png": "[encoded data removed]",
      "text/plain": [
       "<Figure size 1296x432 with 1 Axes>"
      ]
     },
     "metadata": {
      "needs_background": "light"
     },
     "output_type": "display_data"
    }
   ],
   "source": [
    "#plot the top 10 countries in this region with the maximum number of terrorist attacks\n",
    "plt.subplots(figsize=(18,6))\n",
    "sns.barplot(Region_MiddleEast['Country'].value_counts()[:10].index,Region_MiddleEast['Country'].value_counts()[:10].values,palette='inferno')\n",
    "plt.title('Top 10 Attacked Countries in Middle East & North Africa')\n",
    "plt.show()"
   ]
  },
  {
   "cell_type": "markdown",
   "metadata": {},
   "source": [
    "Iraq, Turkey, Yemen, Algeria, Egypt, Lebanon, Libya, Syria, Israel and Iran are the top 10 attacked countries by the terrorists. We will move forward to check their Happiness Score."
   ]
  },
  {
   "cell_type": "code",
   "execution_count": 190,
   "metadata": {},
   "outputs": [],
   "source": [
    "#create a dataframe that consists of the top 10 countries\n",
    "df_happy=df_new[df_new[\"Country\"].isin([\"Iraq\",\"Turkey\",\"Yemen\",\"Algeria\",\"Lebanon\", \"Libya\",\"Syria\",\"Israel\",\"Iran\"])]"
   ]
  },
  {
   "cell_type": "code",
   "execution_count": 191,
   "metadata": {},
   "outputs": [
    {
     "data": {
      "text/plain": [
       "<matplotlib.axes._subplots.AxesSubplot at 0x1c3da86250>"
      ]
     },
     "execution_count": 191,
     "metadata": {},
     "output_type": "execute_result"
    },
    {
     "data": {
      "image/png": "[encoded data removed]",
      "text/plain": [
       "<Figure size 432x288 with 1 Axes>"
      ]
     },
     "metadata": {
      "needs_background": "light"
     },
     "output_type": "display_data"
    }
   ],
   "source": [
    "#plot the Happiness score of these top 10 attacked countries\n",
    "sns.barplot(x='Happiness_Score', y='Country', data=df_happy, palette=\"BuGn_r\")"
   ]
  },
  {
   "cell_type": "markdown",
   "metadata": {},
   "source": [
    "We can clearly see here that, Syria and Yemen have the lowest Happiness Score, followed by Iraq!"
   ]
  },
  {
   "cell_type": "markdown",
   "metadata": {},
   "source": [
    "# 2. Deadliest and most active terrorist groups we didn’t know !"
   ]
  },
  {
   "cell_type": "markdown",
   "metadata": {},
   "source": [
    "Regarding all groups, we will find out which of the groups are the deadliest and the most active ones. We will also see if any/how many of them collide!\n",
    "\n",
    "Terrorist Groups By Attack Times & Casualties:"
   ]
  },
  {
   "cell_type": "code",
   "execution_count": 192,
   "metadata": {},
   "outputs": [
    {
     "data": {
      "text/plain": [
       "3342"
      ]
     },
     "execution_count": 192,
     "metadata": {},
     "output_type": "execute_result"
    }
   ],
   "source": [
    "#Finding out the number of groups\n",
    "len(df_new.Group.unique())"
   ]
  },
  {
   "cell_type": "code",
   "execution_count": 193,
   "metadata": {},
   "outputs": [
    {
     "data": {
      "text/plain": [
       "Unknown                                             80526\n",
       "Taliban                                              7469\n",
       "Islamic State of Iraq and the Levant (ISIL)          5610\n",
       "Shining Path (SL)                                    4532\n",
       "Farabundo Marti National Liberation Front (FMLN)     3343\n",
       "Al-Shabaab                                           3280\n",
       "New People's Army (NPA)                              2752\n",
       "Irish Republican Army (IRA)                          2630\n",
       "Revolutionary Armed Forces of Colombia (FARC)        2465\n",
       "Boko Haram                                           2418\n",
       "Name: Group, dtype: int64"
      ]
     },
     "execution_count": 193,
     "metadata": {},
     "output_type": "execute_result"
    }
   ],
   "source": [
    "#The value count of the top 10 terrorist Groups\n",
    "\n",
    "df_new['Group'].value_counts().head(10)"
   ]
  },
  {
   "cell_type": "code",
   "execution_count": 194,
   "metadata": {},
   "outputs": [],
   "source": [
    "#Grouping by group and finding the count and sum\n",
    "df_terro_group=df_new.groupby('Group').agg({'Group':'count', 'Total_num':'sum'}).\\\n",
    "rename(columns={'Group':\"Times\"})\n",
    "df_terro_group=df_terro_group.reset_index()"
   ]
  },
  {
   "cell_type": "code",
   "execution_count": 195,
   "metadata": {},
   "outputs": [
    {
     "data": {
      "text/html": [
       "<div>\n",
       "<style scoped>\n",
       "    .dataframe tbody tr th:only-of-type {\n",
       "        vertical-align: middle;\n",
       "    }\n",
       "\n",
       "    .dataframe tbody tr th {\n",
       "        vertical-align: top;\n",
       "    }\n",
       "\n",
       "    .dataframe thead th {\n",
       "        text-align: right;\n",
       "    }\n",
       "</style>\n",
       "<table border=\"1\" class=\"dataframe\">\n",
       "  <thead>\n",
       "    <tr style=\"text-align: right;\">\n",
       "      <th></th>\n",
       "      <th>Group</th>\n",
       "      <th>Times</th>\n",
       "      <th>Total_num</th>\n",
       "    </tr>\n",
       "  </thead>\n",
       "  <tbody>\n",
       "    <tr>\n",
       "      <td>0</td>\n",
       "      <td>1-May</td>\n",
       "      <td>10</td>\n",
       "      <td>2.0</td>\n",
       "    </tr>\n",
       "    <tr>\n",
       "      <td>1</td>\n",
       "      <td>11-Sep</td>\n",
       "      <td>3</td>\n",
       "      <td>0.0</td>\n",
       "    </tr>\n",
       "    <tr>\n",
       "      <td>2</td>\n",
       "      <td>14 March Coalition</td>\n",
       "      <td>1</td>\n",
       "      <td>85.0</td>\n",
       "    </tr>\n",
       "    <tr>\n",
       "      <td>3</td>\n",
       "      <td>14th of December Command</td>\n",
       "      <td>3</td>\n",
       "      <td>0.0</td>\n",
       "    </tr>\n",
       "    <tr>\n",
       "      <td>4</td>\n",
       "      <td>15-May</td>\n",
       "      <td>1</td>\n",
       "      <td>0.0</td>\n",
       "    </tr>\n",
       "    <tr>\n",
       "      <td>5</td>\n",
       "      <td>15th of September Liberation Legion</td>\n",
       "      <td>1</td>\n",
       "      <td>1.0</td>\n",
       "    </tr>\n",
       "    <tr>\n",
       "      <td>6</td>\n",
       "      <td>16 January Organization for the Liberation of ...</td>\n",
       "      <td>24</td>\n",
       "      <td>33.0</td>\n",
       "    </tr>\n",
       "    <tr>\n",
       "      <td>7</td>\n",
       "      <td>1920 Revolution Brigades</td>\n",
       "      <td>2</td>\n",
       "      <td>34.0</td>\n",
       "    </tr>\n",
       "    <tr>\n",
       "      <td>8</td>\n",
       "      <td>19th of July Christian Resistance Brigade</td>\n",
       "      <td>1</td>\n",
       "      <td>1.0</td>\n",
       "    </tr>\n",
       "    <tr>\n",
       "      <td>9</td>\n",
       "      <td>1st of May Group</td>\n",
       "      <td>3</td>\n",
       "      <td>0.0</td>\n",
       "    </tr>\n",
       "  </tbody>\n",
       "</table>\n",
       "</div>"
      ],
      "text/plain": [
       "                                               Group  Times  Total_num\n",
       "0                                              1-May     10        2.0\n",
       "1                                             11-Sep      3        0.0\n",
       "2                                 14 March Coalition      1       85.0\n",
       "3                           14th of December Command      3        0.0\n",
       "4                                             15-May      1        0.0\n",
       "5                15th of September Liberation Legion      1        1.0\n",
       "6  16 January Organization for the Liberation of ...     24       33.0\n",
       "7                           1920 Revolution Brigades      2       34.0\n",
       "8          19th of July Christian Resistance Brigade      1        1.0\n",
       "9                                   1st of May Group      3        0.0"
      ]
     },
     "execution_count": 195,
     "metadata": {},
     "output_type": "execute_result"
    }
   ],
   "source": [
    "df_terro_group.head(10)"
   ]
  },
  {
   "cell_type": "code",
   "execution_count": 196,
   "metadata": {},
   "outputs": [
    {
     "data": {
      "image/png": "[encoded data removed]",
      "text/plain": [
       "<Figure size 720x576 with 1 Axes>"
      ]
     },
     "metadata": {
      "needs_background": "light"
     },
     "output_type": "display_data"
    }
   ],
   "source": [
    "#plotting the terrorist groups by fatalities(wounded and killed)\n",
    "sns.barplot(x=df_terro_group.Total_num.nlargest(15)[0:15], y=df_terro_group.iloc[df_terro_group.Total_num.nlargest(15)[0:15].index].Group.values,palette=('inferno'))\n",
    "plt.xticks(rotation=90)\n",
    "fig=plt.gcf()\n",
    "fig.set_size_inches(10,8)\n",
    "plt.title('Terrorist Groups (Rank by Total wounds and fatalities)')\n",
    "plt.show()"
   ]
  },
  {
   "cell_type": "code",
   "execution_count": 197,
   "metadata": {},
   "outputs": [
    {
     "data": {
      "image/png": "[encoded data removed]",
      "text/plain": [
       "<Figure size 720x576 with 1 Axes>"
      ]
     },
     "metadata": {
      "needs_background": "light"
     },
     "output_type": "display_data"
    }
   ],
   "source": [
    "#We will remove the unknown group\n",
    "sns.barplot(x=df_terro_group.Total_num.nlargest(15)[1:15], y=df_terro_group.iloc[df_terro_group.Total_num.nlargest(15)[1:15].index].Group.values,palette=('inferno'))\n",
    "plt.xticks(rotation=90)\n",
    "fig=plt.gcf()\n",
    "fig.set_size_inches(10,8)\n",
    "plt.title('Terrorist Groups (Rank by Total wounds and fatalities)')\n",
    "plt.show()"
   ]
  },
  {
   "cell_type": "code",
   "execution_count": 198,
   "metadata": {},
   "outputs": [
    {
     "data": {
      "text/plain": [
       "Text(0.5, 1.0, 'Terrorist Groups (Rank by attack times)')"
      ]
     },
     "execution_count": 198,
     "metadata": {},
     "output_type": "execute_result"
    },
    {
     "data": {
      "image/png": "[encoded data removed]",
      "text/plain": [
       "<Figure size 720x576 with 1 Axes>"
      ]
     },
     "metadata": {
      "needs_background": "light"
     },
     "output_type": "display_data"
    }
   ],
   "source": [
    "##plotting the terrorist groups by times(number of times they attacked)\n",
    "sns.barplot(x=df_terro_group.Times.nlargest(15)[1:15], y=df_terro_group.iloc[df_terro_group.Times.nlargest(15)[1:15].index].Group.values,palette=('inferno'))\n",
    "plt.xticks(rotation=90)\n",
    "fig=plt.gcf()\n",
    "fig.set_size_inches(10,8)\n",
    "plt.title('Terrorist Groups (Rank by attack times)')"
   ]
  },
  {
   "cell_type": "markdown",
   "metadata": {},
   "source": [
    "The following plot is the groups ranked by number of casualties also excluding the unkown group. Comparing the groups in these two ranks we noticed that there have some overlaps,they are quite different.(Al qaida which responsible for 911 attack in 2012 US) o named these groups 'active' and 'deadliest'"
   ]
  },
  {
   "cell_type": "markdown",
   "metadata": {},
   "source": [
    "<font size=\"4\"> Secondly, Subset Terrorist Groups Based On Two Standards: attack times and deaths. \n"
   ]
  },
  {
   "cell_type": "code",
   "execution_count": 199,
   "metadata": {},
   "outputs": [],
   "source": [
    "##Subsetting one group by attack times, choosing top 100\n",
    "##Time Max\n",
    "index_times_100=df_new.groupby('Group').size()[df_new.groupby('Group').size().values!=1].nlargest(100).index\n",
    "value_times_100=df_new.groupby('Group').size()[df_new.groupby('Group').size().values!=1].nlargest(100).values\n",
    "df_times_100=df_new[df_new['Group'].isin(index_times_100)]"
   ]
  },
  {
   "cell_type": "code",
   "execution_count": 200,
   "metadata": {},
   "outputs": [],
   "source": [
    "##Subsetting another group by casualities numbers, choosing top 100.\n",
    "##Dead Max\n",
    "index_dead_100=df_new.groupby('Group').agg({'Total_num':'sum'}).Total_num.nlargest(100).index\n",
    "values_dead_100=df_new.groupby('Group').agg({'Total_num':'sum'}).Total_num.nlargest(100).values\n",
    "df_dead_100=df_new[df_new['Group'].isin(index_dead_100)]"
   ]
  },
  {
   "cell_type": "code",
   "execution_count": 201,
   "metadata": {},
   "outputs": [],
   "source": [
    "#create datasets for attack and casualty\n",
    "group_times_100=pd.DataFrame({'Group_Name':index_times_100, 'Value_Times':value_times_100})\n",
    "group_dead_100=pd.DataFrame({'Group_Name':index_dead_100, 'values_dead':values_dead_100})"
   ]
  },
  {
   "cell_type": "code",
   "execution_count": 202,
   "metadata": {},
   "outputs": [],
   "source": [
    "#setting the indexes\n",
    "group_times_100=group_times_100.set_index(['Group_Name'])\n",
    "group_dead_100=group_dead_100.set_index(['Group_Name'])"
   ]
  },
  {
   "cell_type": "code",
   "execution_count": 203,
   "metadata": {},
   "outputs": [
    {
     "data": {
      "image/png": "[encoded data removed]",
      "text/plain": [
       "<Figure size 1296x504 with 1 Axes>"
      ]
     },
     "metadata": {},
     "output_type": "display_data"
    }
   ],
   "source": [
    "#creating a venn diagram to portray how many of the two groups coincide\n",
    "set1 = set(group_dead_100.index)\n",
    "set2 = set(group_times_100.index)\n",
    "venn2([set1, set2], ('Top 100 Deadliest groups', 'Top 100 Active groups'))\n",
    "fig=plt.gcf()\n",
    "fig.set_size_inches(18,7)\n",
    "plt.show()"
   ]
  },
  {
   "cell_type": "markdown",
   "metadata": {},
   "source": [
    "We drew the venn graph of 100 groups from 'active' and 'deadliest' and found that there are 69 groups overlapping, so 69 of the groups are both the deadliest as well as active."
   ]
  },
  {
   "cell_type": "markdown",
   "metadata": {},
   "source": [
    "# 3. Prediction"
   ]
  },
  {
   "cell_type": "markdown",
   "metadata": {},
   "source": [
    "For the prediction part, we want to figure out which factors matter the most when we want to predict the outcome(casuality or no casuality) of an attack. To accomplish a study on this, we set casualty value (killed + injured) as our target variable and other variable as our predictors."
   ]
  },
  {
   "cell_type": "code",
   "execution_count": 204,
   "metadata": {},
   "outputs": [
    {
     "data": {
      "text/html": [
       "<div>\n",
       "<style scoped>\n",
       "    .dataframe tbody tr th:only-of-type {\n",
       "        vertical-align: middle;\n",
       "    }\n",
       "\n",
       "    .dataframe tbody tr th {\n",
       "        vertical-align: top;\n",
       "    }\n",
       "\n",
       "    .dataframe thead th {\n",
       "        text-align: right;\n",
       "    }\n",
       "</style>\n",
       "<table border=\"1\" class=\"dataframe\">\n",
       "  <thead>\n",
       "    <tr style=\"text-align: right;\">\n",
       "      <th></th>\n",
       "      <th>Year</th>\n",
       "      <th>Country</th>\n",
       "      <th>Region</th>\n",
       "      <th>city</th>\n",
       "      <th>latitude</th>\n",
       "      <th>longitude</th>\n",
       "      <th>AttackType</th>\n",
       "      <th>Killed</th>\n",
       "      <th>Wounded</th>\n",
       "      <th>Target</th>\n",
       "      <th>Summary</th>\n",
       "      <th>Group</th>\n",
       "      <th>Target_type</th>\n",
       "      <th>Weapon_type</th>\n",
       "      <th>Motive</th>\n",
       "      <th>casualities</th>\n",
       "    </tr>\n",
       "  </thead>\n",
       "  <tbody>\n",
       "    <tr>\n",
       "      <td>0</td>\n",
       "      <td>1970</td>\n",
       "      <td>Dominican Republic</td>\n",
       "      <td>Central America &amp; Caribbean</td>\n",
       "      <td>Santo Domingo</td>\n",
       "      <td>18.456792</td>\n",
       "      <td>-69.951164</td>\n",
       "      <td>Assassination</td>\n",
       "      <td>1.0</td>\n",
       "      <td>0.0</td>\n",
       "      <td>Julio Guzman</td>\n",
       "      <td>NaN</td>\n",
       "      <td>MANO-D</td>\n",
       "      <td>Private Citizens &amp; Property</td>\n",
       "      <td>Unknown</td>\n",
       "      <td>NaN</td>\n",
       "      <td>1.0</td>\n",
       "    </tr>\n",
       "    <tr>\n",
       "      <td>1</td>\n",
       "      <td>1970</td>\n",
       "      <td>Mexico</td>\n",
       "      <td>North America</td>\n",
       "      <td>Mexico city</td>\n",
       "      <td>19.371887</td>\n",
       "      <td>-99.086624</td>\n",
       "      <td>Hostage Taking (Kidnapping)</td>\n",
       "      <td>0.0</td>\n",
       "      <td>0.0</td>\n",
       "      <td>Nadine Chaval, daughter</td>\n",
       "      <td>NaN</td>\n",
       "      <td>23rd of September Communist League</td>\n",
       "      <td>Government (Diplomatic)</td>\n",
       "      <td>Unknown</td>\n",
       "      <td>NaN</td>\n",
       "      <td>0.0</td>\n",
       "    </tr>\n",
       "    <tr>\n",
       "      <td>2</td>\n",
       "      <td>1970</td>\n",
       "      <td>Philippines</td>\n",
       "      <td>Southeast Asia</td>\n",
       "      <td>Unknown</td>\n",
       "      <td>15.478598</td>\n",
       "      <td>120.599741</td>\n",
       "      <td>Assassination</td>\n",
       "      <td>1.0</td>\n",
       "      <td>0.0</td>\n",
       "      <td>Employee</td>\n",
       "      <td>NaN</td>\n",
       "      <td>Unknown</td>\n",
       "      <td>Journalists &amp; Media</td>\n",
       "      <td>Unknown</td>\n",
       "      <td>NaN</td>\n",
       "      <td>1.0</td>\n",
       "    </tr>\n",
       "    <tr>\n",
       "      <td>3</td>\n",
       "      <td>1970</td>\n",
       "      <td>Greece</td>\n",
       "      <td>Western Europe</td>\n",
       "      <td>Athens</td>\n",
       "      <td>37.997490</td>\n",
       "      <td>23.762728</td>\n",
       "      <td>Bombing/Explosion</td>\n",
       "      <td>NaN</td>\n",
       "      <td>NaN</td>\n",
       "      <td>U.S. Embassy</td>\n",
       "      <td>NaN</td>\n",
       "      <td>Unknown</td>\n",
       "      <td>Government (Diplomatic)</td>\n",
       "      <td>Explosives</td>\n",
       "      <td>NaN</td>\n",
       "      <td>NaN</td>\n",
       "    </tr>\n",
       "    <tr>\n",
       "      <td>4</td>\n",
       "      <td>1970</td>\n",
       "      <td>Japan</td>\n",
       "      <td>East Asia</td>\n",
       "      <td>Fukouka</td>\n",
       "      <td>33.580412</td>\n",
       "      <td>130.396361</td>\n",
       "      <td>Facility/Infrastructure Attack</td>\n",
       "      <td>NaN</td>\n",
       "      <td>NaN</td>\n",
       "      <td>U.S. Consulate</td>\n",
       "      <td>NaN</td>\n",
       "      <td>Unknown</td>\n",
       "      <td>Government (Diplomatic)</td>\n",
       "      <td>Incendiary</td>\n",
       "      <td>NaN</td>\n",
       "      <td>NaN</td>\n",
       "    </tr>\n",
       "    <tr>\n",
       "      <td>5</td>\n",
       "      <td>1970</td>\n",
       "      <td>United States</td>\n",
       "      <td>North America</td>\n",
       "      <td>Cairo</td>\n",
       "      <td>37.005105</td>\n",
       "      <td>-89.176269</td>\n",
       "      <td>Armed Assault</td>\n",
       "      <td>0.0</td>\n",
       "      <td>0.0</td>\n",
       "      <td>Cairo Police Headquarters</td>\n",
       "      <td>1/1/1970: Unknown African American assailants ...</td>\n",
       "      <td>Black Nationalists</td>\n",
       "      <td>Police</td>\n",
       "      <td>Firearms</td>\n",
       "      <td>To protest the Cairo Illinois Police Deparment</td>\n",
       "      <td>0.0</td>\n",
       "    </tr>\n",
       "    <tr>\n",
       "      <td>6</td>\n",
       "      <td>1970</td>\n",
       "      <td>Uruguay</td>\n",
       "      <td>South America</td>\n",
       "      <td>Montevideo</td>\n",
       "      <td>-34.891151</td>\n",
       "      <td>-56.187214</td>\n",
       "      <td>Assassination</td>\n",
       "      <td>0.0</td>\n",
       "      <td>0.0</td>\n",
       "      <td>Juan Maria de Lucah/Chief of Directorate of in...</td>\n",
       "      <td>NaN</td>\n",
       "      <td>Tupamaros (Uruguay)</td>\n",
       "      <td>Police</td>\n",
       "      <td>Firearms</td>\n",
       "      <td>NaN</td>\n",
       "      <td>0.0</td>\n",
       "    </tr>\n",
       "    <tr>\n",
       "      <td>7</td>\n",
       "      <td>1970</td>\n",
       "      <td>United States</td>\n",
       "      <td>North America</td>\n",
       "      <td>Oakland</td>\n",
       "      <td>37.791927</td>\n",
       "      <td>-122.225906</td>\n",
       "      <td>Bombing/Explosion</td>\n",
       "      <td>0.0</td>\n",
       "      <td>0.0</td>\n",
       "      <td>Edes Substation</td>\n",
       "      <td>1/2/1970: Unknown perpetrators detonated explo...</td>\n",
       "      <td>Unknown</td>\n",
       "      <td>Utilities</td>\n",
       "      <td>Explosives</td>\n",
       "      <td>NaN</td>\n",
       "      <td>0.0</td>\n",
       "    </tr>\n",
       "    <tr>\n",
       "      <td>8</td>\n",
       "      <td>1970</td>\n",
       "      <td>United States</td>\n",
       "      <td>North America</td>\n",
       "      <td>Madison</td>\n",
       "      <td>43.076592</td>\n",
       "      <td>-89.412488</td>\n",
       "      <td>Facility/Infrastructure Attack</td>\n",
       "      <td>0.0</td>\n",
       "      <td>0.0</td>\n",
       "      <td>R.O.T.C. offices at University of Wisconsin, M...</td>\n",
       "      <td>1/2/1970: Karl Armstrong, a member of the New ...</td>\n",
       "      <td>New Year's Gang</td>\n",
       "      <td>Military</td>\n",
       "      <td>Incendiary</td>\n",
       "      <td>To protest the War in Vietnam and the draft</td>\n",
       "      <td>0.0</td>\n",
       "    </tr>\n",
       "    <tr>\n",
       "      <td>9</td>\n",
       "      <td>1970</td>\n",
       "      <td>United States</td>\n",
       "      <td>North America</td>\n",
       "      <td>Madison</td>\n",
       "      <td>43.072950</td>\n",
       "      <td>-89.386694</td>\n",
       "      <td>Facility/Infrastructure Attack</td>\n",
       "      <td>0.0</td>\n",
       "      <td>0.0</td>\n",
       "      <td>Selective Service Headquarters in Madison Wisc...</td>\n",
       "      <td>1/3/1970: Karl Armstrong, a member of the New ...</td>\n",
       "      <td>New Year's Gang</td>\n",
       "      <td>Government (General)</td>\n",
       "      <td>Incendiary</td>\n",
       "      <td>To protest the War in Vietnam and the draft</td>\n",
       "      <td>0.0</td>\n",
       "    </tr>\n",
       "  </tbody>\n",
       "</table>\n",
       "</div>"
      ],
      "text/plain": [
       "   Year             Country                       Region           city  \\\n",
       "0  1970  Dominican Republic  Central America & Caribbean  Santo Domingo   \n",
       "1  1970              Mexico                North America    Mexico city   \n",
       "2  1970         Philippines               Southeast Asia        Unknown   \n",
       "3  1970              Greece               Western Europe         Athens   \n",
       "4  1970               Japan                    East Asia        Fukouka   \n",
       "5  1970       United States                North America          Cairo   \n",
       "6  1970             Uruguay                South America     Montevideo   \n",
       "7  1970       United States                North America        Oakland   \n",
       "8  1970       United States                North America        Madison   \n",
       "9  1970       United States                North America        Madison   \n",
       "\n",
       "    latitude   longitude                      AttackType  Killed  Wounded  \\\n",
       "0  18.456792  -69.951164                   Assassination     1.0      0.0   \n",
       "1  19.371887  -99.086624     Hostage Taking (Kidnapping)     0.0      0.0   \n",
       "2  15.478598  120.599741                   Assassination     1.0      0.0   \n",
       "3  37.997490   23.762728               Bombing/Explosion     NaN      NaN   \n",
       "4  33.580412  130.396361  Facility/Infrastructure Attack     NaN      NaN   \n",
       "5  37.005105  -89.176269                   Armed Assault     0.0      0.0   \n",
       "6 -34.891151  -56.187214                   Assassination     0.0      0.0   \n",
       "7  37.791927 -122.225906               Bombing/Explosion     0.0      0.0   \n",
       "8  43.076592  -89.412488  Facility/Infrastructure Attack     0.0      0.0   \n",
       "9  43.072950  -89.386694  Facility/Infrastructure Attack     0.0      0.0   \n",
       "\n",
       "                                              Target  \\\n",
       "0                                       Julio Guzman   \n",
       "1                            Nadine Chaval, daughter   \n",
       "2                                           Employee   \n",
       "3                                       U.S. Embassy   \n",
       "4                                     U.S. Consulate   \n",
       "5                          Cairo Police Headquarters   \n",
       "6  Juan Maria de Lucah/Chief of Directorate of in...   \n",
       "7                                    Edes Substation   \n",
       "8  R.O.T.C. offices at University of Wisconsin, M...   \n",
       "9  Selective Service Headquarters in Madison Wisc...   \n",
       "\n",
       "                                             Summary  \\\n",
       "0                                                NaN   \n",
       "1                                                NaN   \n",
       "2                                                NaN   \n",
       "3                                                NaN   \n",
       "4                                                NaN   \n",
       "5  1/1/1970: Unknown African American assailants ...   \n",
       "6                                                NaN   \n",
       "7  1/2/1970: Unknown perpetrators detonated explo...   \n",
       "8  1/2/1970: Karl Armstrong, a member of the New ...   \n",
       "9  1/3/1970: Karl Armstrong, a member of the New ...   \n",
       "\n",
       "                                Group                  Target_type  \\\n",
       "0                              MANO-D  Private Citizens & Property   \n",
       "1  23rd of September Communist League      Government (Diplomatic)   \n",
       "2                             Unknown          Journalists & Media   \n",
       "3                             Unknown      Government (Diplomatic)   \n",
       "4                             Unknown      Government (Diplomatic)   \n",
       "5                  Black Nationalists                       Police   \n",
       "6                 Tupamaros (Uruguay)                       Police   \n",
       "7                             Unknown                    Utilities   \n",
       "8                     New Year's Gang                     Military   \n",
       "9                     New Year's Gang         Government (General)   \n",
       "\n",
       "  Weapon_type                                          Motive  casualities  \n",
       "0     Unknown                                             NaN          1.0  \n",
       "1     Unknown                                             NaN          0.0  \n",
       "2     Unknown                                             NaN          1.0  \n",
       "3  Explosives                                             NaN          NaN  \n",
       "4  Incendiary                                             NaN          NaN  \n",
       "5    Firearms  To protest the Cairo Illinois Police Deparment          0.0  \n",
       "6    Firearms                                             NaN          0.0  \n",
       "7  Explosives                                             NaN          0.0  \n",
       "8  Incendiary     To protest the War in Vietnam and the draft          0.0  \n",
       "9  Incendiary     To protest the War in Vietnam and the draft          0.0  "
      ]
     },
     "execution_count": 204,
     "metadata": {},
     "output_type": "execute_result"
    }
   ],
   "source": [
    "terrorism = terrorism[['Year','Country','Region','city','latitude','longitude','AttackType','Killed','Wounded','Target','Summary','Group','Target_type','Weapon_type','Motive']]\n",
    "terrorism['casualities']=terrorism['Killed']+terrorism['Wounded']\n",
    "terrorism.head(10)"
   ]
  },
  {
   "cell_type": "code",
   "execution_count": 205,
   "metadata": {},
   "outputs": [
    {
     "data": {
      "text/plain": [
       "(181691, 16)"
      ]
     },
     "execution_count": 205,
     "metadata": {},
     "output_type": "execute_result"
    }
   ],
   "source": [
    "#cleaning the NAs\n",
    "terrorism.dropna(how = 'all', inplace=True)\n",
    "terrorism.shape"
   ]
  },
  {
   "cell_type": "code",
   "execution_count": 206,
   "metadata": {},
   "outputs": [],
   "source": [
    "# Before we do the classification, we may want to delete some columns like city and motive since some of them may have\n",
    "# linear relationship with other columns like killed and some of them has too many missing value like motive\n",
    "\n",
    "terrorism_cm = terrorism.drop(columns = ['Motive','Target','Killed','Wounded','Summary','city'])"
   ]
  },
  {
   "cell_type": "code",
   "execution_count": 207,
   "metadata": {},
   "outputs": [],
   "source": [
    "# Encode category predictors into numbers\n",
    "labelEncoding = LabelEncoder()\n",
    "terrorism_cm['Country'] = labelEncoding.fit_transform(terrorism_cm['Country'])\n",
    "terrorism_cm['AttackType'] = labelEncoding.fit_transform(terrorism_cm['AttackType'])\n",
    "terrorism_cm['Target_type'] = labelEncoding.fit_transform(terrorism_cm['Target_type'])\n",
    "terrorism_cm['Weapon_type'] = labelEncoding.fit_transform(terrorism_cm['Weapon_type'])\n",
    "terrorism_cm['Region'] = labelEncoding.fit_transform(terrorism_cm['Region'])\n",
    "terrorism_cm['Group'] = labelEncoding.fit_transform(terrorism_cm['Group'])\n"
   ]
  },
  {
   "cell_type": "code",
   "execution_count": 208,
   "metadata": {},
   "outputs": [],
   "source": [
    "#Keep casualities as 0 or 1(if the number is 1 or above)\n",
    "terrorism_cm['casualities'] = terrorism_cm['casualities'].apply(lambda x: 0 if x == 0 else 1)"
   ]
  },
  {
   "cell_type": "code",
   "execution_count": 209,
   "metadata": {},
   "outputs": [
    {
     "data": {
      "text/html": [
       "<div>\n",
       "<style scoped>\n",
       "    .dataframe tbody tr th:only-of-type {\n",
       "        vertical-align: middle;\n",
       "    }\n",
       "\n",
       "    .dataframe tbody tr th {\n",
       "        vertical-align: top;\n",
       "    }\n",
       "\n",
       "    .dataframe thead th {\n",
       "        text-align: right;\n",
       "    }\n",
       "</style>\n",
       "<table border=\"1\" class=\"dataframe\">\n",
       "  <thead>\n",
       "    <tr style=\"text-align: right;\">\n",
       "      <th></th>\n",
       "      <th>Year</th>\n",
       "      <th>Country</th>\n",
       "      <th>Region</th>\n",
       "      <th>latitude</th>\n",
       "      <th>longitude</th>\n",
       "      <th>AttackType</th>\n",
       "      <th>Group</th>\n",
       "      <th>Target_type</th>\n",
       "      <th>Weapon_type</th>\n",
       "      <th>casualities</th>\n",
       "    </tr>\n",
       "  </thead>\n",
       "  <tbody>\n",
       "    <tr>\n",
       "      <td>0</td>\n",
       "      <td>1970</td>\n",
       "      <td>47</td>\n",
       "      <td>1</td>\n",
       "      <td>18.456792</td>\n",
       "      <td>-69.951164</td>\n",
       "      <td>1</td>\n",
       "      <td>1909</td>\n",
       "      <td>13</td>\n",
       "      <td>10</td>\n",
       "      <td>1</td>\n",
       "    </tr>\n",
       "    <tr>\n",
       "      <td>1</td>\n",
       "      <td>1970</td>\n",
       "      <td>116</td>\n",
       "      <td>6</td>\n",
       "      <td>19.371887</td>\n",
       "      <td>-99.086624</td>\n",
       "      <td>6</td>\n",
       "      <td>16</td>\n",
       "      <td>5</td>\n",
       "      <td>10</td>\n",
       "      <td>0</td>\n",
       "    </tr>\n",
       "    <tr>\n",
       "      <td>2</td>\n",
       "      <td>1970</td>\n",
       "      <td>140</td>\n",
       "      <td>9</td>\n",
       "      <td>15.478598</td>\n",
       "      <td>120.599741</td>\n",
       "      <td>1</td>\n",
       "      <td>3408</td>\n",
       "      <td>7</td>\n",
       "      <td>10</td>\n",
       "      <td>1</td>\n",
       "    </tr>\n",
       "    <tr>\n",
       "      <td>3</td>\n",
       "      <td>1970</td>\n",
       "      <td>68</td>\n",
       "      <td>11</td>\n",
       "      <td>37.997490</td>\n",
       "      <td>23.762728</td>\n",
       "      <td>2</td>\n",
       "      <td>3408</td>\n",
       "      <td>5</td>\n",
       "      <td>2</td>\n",
       "      <td>1</td>\n",
       "    </tr>\n",
       "    <tr>\n",
       "      <td>4</td>\n",
       "      <td>1970</td>\n",
       "      <td>90</td>\n",
       "      <td>3</td>\n",
       "      <td>33.580412</td>\n",
       "      <td>130.396361</td>\n",
       "      <td>3</td>\n",
       "      <td>3408</td>\n",
       "      <td>5</td>\n",
       "      <td>5</td>\n",
       "      <td>1</td>\n",
       "    </tr>\n",
       "  </tbody>\n",
       "</table>\n",
       "</div>"
      ],
      "text/plain": [
       "   Year  Country  Region   latitude   longitude  AttackType  Group  \\\n",
       "0  1970       47       1  18.456792  -69.951164           1   1909   \n",
       "1  1970      116       6  19.371887  -99.086624           6     16   \n",
       "2  1970      140       9  15.478598  120.599741           1   3408   \n",
       "3  1970       68      11  37.997490   23.762728           2   3408   \n",
       "4  1970       90       3  33.580412  130.396361           3   3408   \n",
       "\n",
       "   Target_type  Weapon_type  casualities  \n",
       "0           13           10            1  \n",
       "1            5           10            0  \n",
       "2            7           10            1  \n",
       "3            5            2            1  \n",
       "4            5            5            1  "
      ]
     },
     "execution_count": 209,
     "metadata": {},
     "output_type": "execute_result"
    }
   ],
   "source": [
    "terrorism_cm.head(5)"
   ]
  },
  {
   "cell_type": "code",
   "execution_count": 210,
   "metadata": {},
   "outputs": [
    {
     "data": {
      "text/plain": [
       "181691"
      ]
     },
     "execution_count": 210,
     "metadata": {},
     "output_type": "execute_result"
    }
   ],
   "source": [
    "len(terrorism_cm)"
   ]
  },
  {
   "cell_type": "code",
   "execution_count": 211,
   "metadata": {},
   "outputs": [
    {
     "data": {
      "text/plain": [
       "177134"
      ]
     },
     "execution_count": 211,
     "metadata": {},
     "output_type": "execute_result"
    }
   ],
   "source": [
    "# We drop na \n",
    "terrorism_cm = terrorism_cm.dropna()\n",
    "len(terrorism_cm)"
   ]
  },
  {
   "cell_type": "code",
   "execution_count": 212,
   "metadata": {},
   "outputs": [
    {
     "data": {
      "text/plain": [
       "61703"
      ]
     },
     "execution_count": 212,
     "metadata": {},
     "output_type": "execute_result"
    }
   ],
   "source": [
    "len(terrorism_cm[terrorism_cm['casualities'] == 0])"
   ]
  },
  {
   "cell_type": "code",
   "execution_count": 213,
   "metadata": {},
   "outputs": [],
   "source": [
    "# Cross Validation\n",
    "\n",
    "# Split data for training data and validation data\n",
    "X = terrorism_cm[['Year','Country','Region','latitude','longitude','AttackType','Group','Target_type','Weapon_type']]\n",
    "valid = terrorism_cm['casualities']\n",
    "\n",
    "X_train, X_test, valid_train, valid_test = train_test_split(X, valid, test_size=0.3)"
   ]
  },
  {
   "cell_type": "code",
   "execution_count": 214,
   "metadata": {},
   "outputs": [
    {
     "data": {
      "image/png": "[encoded data removed]",
      "text/plain": [
       "<Figure size 432x288 with 1 Axes>"
      ]
     },
     "metadata": {
      "needs_background": "light"
     },
     "output_type": "display_data"
    }
   ],
   "source": [
    "# Compute the feature importances with random forest\n",
    "forest = ExtraTreesClassifier(n_estimators=20,\n",
    "                              random_state=0)\n",
    "\n",
    "forest.fit(X, valid)\n",
    "importances = forest.feature_importances_\n",
    "std = np.std([tree.feature_importances_ for tree in forest.estimators_],\n",
    "             axis=0)\n",
    "indices = np.argsort(importances)[::-1]\n",
    "fnames = [['Year','Country','Region','latitude','longitude','AttackType','Group','Target_type','Weapon_type'][i] for i in indices]\n",
    "\n",
    "# Plot the feature importances of the forest\n",
    "plt.figure()\n",
    "plt.title(\"Feature importances\")\n",
    "plt.bar(range(X.shape[1]), importances[indices],\n",
    "       color=\"r\", yerr=std[indices], align=\"center\")\n",
    "plt.xticks(range(X.shape[1]), fnames, rotation=90)\n",
    "plt.xlim([-1, X.shape[1]])\n",
    "plt.show()"
   ]
  },
  {
   "cell_type": "markdown",
   "metadata": {},
   "source": [
    "<font size= 4> As we can see, longitude, latitude and target type are the factors that matter the most for the outcome of the attack."
   ]
  },
  {
   "cell_type": "code",
   "execution_count": 215,
   "metadata": {},
   "outputs": [],
   "source": [
    "# Train the model\n",
    "X = terrorism_cm[['Year','Country','latitude','longitude','AttackType','Group','Target_type','Weapon_type']]\n",
    "valid = terrorism_cm['casualities']\n",
    "\n",
    "X_train, X_test, valid_train, valid_test = train_test_split(X, valid, test_size=0.3)"
   ]
  },
  {
   "cell_type": "code",
   "execution_count": 216,
   "metadata": {},
   "outputs": [
    {
     "data": {
      "text/plain": [
       "0.8195178863777498"
      ]
     },
     "execution_count": 216,
     "metadata": {},
     "output_type": "execute_result"
    }
   ],
   "source": [
    "#Check the accuracy\n",
    "model = RandomForestClassifier(n_estimators=10)\n",
    "model.fit(X_train, valid_train)\n",
    "pred = model.predict(X_test)\n",
    "np.mean(pred == valid_test)"
   ]
  },
  {
   "cell_type": "markdown",
   "metadata": {},
   "source": [
    "<font size= 4>We can see from above, the accuracy result is about 81.95%. This proves that the result from our feature importance analysis is almost accurate."
   ]
  },
  {
   "cell_type": "code",
   "execution_count": 217,
   "metadata": {},
   "outputs": [
    {
     "name": "stdout",
     "output_type": "stream",
     "text": [
      "Confusion matrix, without normalization\n",
      "[[13728  4878]\n",
      " [ 4713 29822]]\n",
      "Normalized confusion matrix\n",
      "[[0.74 0.26]\n",
      " [0.14 0.86]]\n"
     ]
    },
    {
     "data": {
      "image/png": "[encoded data removed]",
      "text/plain": [
       "<Figure size 432x288 with 2 Axes>"
      ]
     },
     "metadata": {
      "needs_background": "light"
     },
     "output_type": "display_data"
    },
    {
     "data": {
      "image/png": "[encoded data removed]",
      "text/plain": [
       "<Figure size 432x288 with 2 Axes>"
      ]
     },
     "metadata": {
      "needs_background": "light"
     },
     "output_type": "display_data"
    }
   ],
   "source": [
    "##Confusion Matrix\n",
    "cnf_matrix = confusion_matrix(valid_test, pred)\n",
    " \n",
    "\n",
    "def plot_confusion_matrix(cm,\n",
    "                          normalize=False,\n",
    "                          title='Confusion matrix',\n",
    "                          cmap=plt.cm.Blues):\n",
    "    if normalize:\n",
    "        cm = cm.astype('float') / cm.sum(axis=1)[:, np.newaxis]\n",
    "        print(\"Normalized confusion matrix\")\n",
    "    else:\n",
    "        print('Confusion matrix, without normalization')\n",
    " \n",
    "    print(cm)\n",
    " \n",
    "    plt.imshow(cm, interpolation='nearest', cmap=cmap)\n",
    "    plt.title(title)\n",
    "    plt.colorbar()\n",
    " \n",
    "    fmt = '.2f' if normalize else 'd'\n",
    "    thresh = cm.max() / 2.\n",
    "    for i, j in itertools.product(range(cm.shape[0]), range(cm.shape[1])):\n",
    "        plt.text(j, i, format(cm[i, j], fmt),\n",
    "                 horizontalalignment=\"center\",\n",
    "                 color=\"white\" if cm[i, j] > thresh else \"black\")\n",
    " \n",
    "    plt.tight_layout()\n",
    "    plt.ylabel('True label')\n",
    "    plt.xlabel('Predicted label')\n",
    " \n",
    "# Compute confusion matrix\n",
    "np.set_printoptions(precision=2)\n",
    " \n",
    "# Plot non-normalized confusion matrix\n",
    "plt.figure()\n",
    "plot_confusion_matrix(cnf_matrix,\n",
    "                      title='Confusion matrix, without normalization')\n",
    " \n",
    "# Plot normalized confusion matrix\n",
    "plt.figure()\n",
    "plot_confusion_matrix(cnf_matrix, normalize=True,\n",
    "                      title='Normalized confusion matrix')\n",
    " \n",
    "plt.show()"
   ]
  },
  {
   "cell_type": "markdown",
   "metadata": {},
   "source": [
    "The result shows that about the True Positive rate reaches about 0.86 whereas the True Negative rate reaches about 0.74."
   ]
  },
  {
   "cell_type": "code",
   "execution_count": 218,
   "metadata": {},
   "outputs": [
    {
     "data": {
      "image/png": "[encoded data removed]",
      "text/plain": [
       "<Figure size 432x288 with 1 Axes>"
      ]
     },
     "metadata": {
      "needs_background": "light"
     },
     "output_type": "display_data"
    }
   ],
   "source": [
    "## ROC curve\n",
    "score = model.predict_proba(X_test)[:,1]\n",
    "fpr, tpr, thresholds = roc_curve(pred, score, pos_label=1)\n",
    "auc = np.trapz(tpr, fpr)\n",
    "\n",
    "plt.plot(fpr, tpr, label=\"AUC=\" + str(auc))\n",
    "plt.xlabel(\"FPR\")\n",
    "plt.ylabel(\"TPR\")\n",
    "plt.grid()\n",
    "plt.legend()\n",
    "plt.show() "
   ]
  },
  {
   "cell_type": "markdown",
   "metadata": {},
   "source": [
    "As it can be seen from the AUC analysis that, the curve is pretty close to the upper left of the plot, demonstrating a high overall accuracy. (There exists a moment that True positive rate could be high whereas false positive rate could be maintained at a pretty low value)"
   ]
  },
  {
   "cell_type": "markdown",
   "metadata": {},
   "source": [
    "# CONCLUSION: "
   ]
  },
  {
   "cell_type": "markdown",
   "metadata": {},
   "source": [
    "We analyzed terrorism thoroughly and found out that the most attacked country in the world is not the most unhappy! We also found out which terrorist groups are the deadliest and most active. \n",
    "We predicted the factors that matter the most when we want to predict the outcome(casuality or no casuality) of an attack. "
   ]
  },
  {
   "cell_type": "markdown",
   "metadata": {},
   "source": [
    "<font size = 4> REFERENCES:"
   ]
  },
  {
   "cell_type": "markdown",
   "metadata": {},
   "source": [
    "https://www.udemy.com/course/a-gentle-introduction-to-machine-learning-using-scikit-learn/learn/lecture/6673414#overview\n",
    "\n",
    "https://www.kaggle.com/rabbitsusan/world-happiness-report\n",
    "\n",
    "https://www.kaggle.com/tomduff/predict-success-of-terrorist-act\n",
    "\n",
    "https://www.kaggle.com/ash316/terrorism-around-the-world/notebook\n",
    "\n",
    "https://www.kaggle.com/vamsikrishna/happiness-index-and-terrorism\n",
    "\n",
    "https://www.kaggle.com/jmanders/the-happy-pears-predicting-terrorism-casualties\n",
    "\n",
    "https://www.kaggle.com/daansterk/predicting-terrorism-casualties-the-happy-pears#4.-Predictive-analysis\n",
    "\n",
    "https://www.kaggle.com/gouthamvarma/predicting-success-of-a-terrorist-attack-in-india\n",
    "\n",
    "https://www.youtube.com/watch?v=GwIo3gDZCVQ&list=PL9ooVrP1hQOHUfd-g8GUpKI3hHOwM_9Dn"
   ]
  }
 ],
 "metadata": {
  "kernelspec": {
   "display_name": "Python 3",
   "language": "python",
   "name": "python3"
  },
  "language_info": {
   "codemirror_mode": {
    "name": "ipython",
    "version": 3
   },
   "file_extension": ".py",
   "mimetype": "text/x-python",
   "name": "python",
   "nbconvert_exporter": "python",
   "pygments_lexer": "ipython3",
   "version": "3.7.4"
  }
 },
 "nbformat": 4,
 "nbformat_minor": 2
}
